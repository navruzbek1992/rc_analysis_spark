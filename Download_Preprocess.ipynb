{
 "cells": [
  {
   "cell_type": "markdown",
   "metadata": {},
   "source": [
    "# Reddit Comments Analysis (First Part)\n",
    "\n",
    "### Download, preprocess and apply sentiment analyser\n",
    "\n",
    "Reddit's monthly comments are zipped and available for some modeling.\n",
    "\n",
    "URL for this is as following https://files.pushshift.io/reddit/comments/.\n",
    "\n",
    "Since databricks environment is limited to 10GB, only smaller files are download.\n",
    "\n",
    "First, I will install important libs and then I will download 2011 August comments."
   ]
  },
  {
   "cell_type": "code",
   "execution_count": null,
   "metadata": {},
   "outputs": [],
   "source": [
    "## nltk is required for sentiment analysis\n",
    "!pip install nltk\n",
    "!pip install wordcloud"
   ]
  },
  {
   "cell_type": "code",
   "execution_count": null,
   "metadata": {},
   "outputs": [],
   "source": [
    "## import important libs\n",
    "from pyspark import SparkContext\n",
    "import nltk\n",
    "from nltk.corpus import stopwords\n",
    "from nltk.stem import WordNetLemmatizer\n",
    "from wordcloud import WordCloud \n",
    "from nltk.sentiment.vader import SentimentIntensityAnalyzer\n",
    "import json\n",
    "import bz2"
   ]
  },
  {
   "cell_type": "code",
   "execution_count": null,
   "metadata": {},
   "outputs": [],
   "source": [
    "## download punctutation, stopwords and other parts of nltk\n",
    "nltk.download('punkt')\n",
    "nltk.download('stopwords')\n",
    "nltk.download('vader_lexicon')\n",
    "nltk.download('wordnet')"
   ]
  },
  {
   "cell_type": "code",
   "execution_count": null,
   "metadata": {},
   "outputs": [],
   "source": [
    "## this will save the zipped file in the temp folder\n",
    "!wget 'https://files.pushshift.io/reddit/comments/RC_2011-08.bz2'"
   ]
  },
  {
   "cell_type": "code",
   "execution_count": null,
   "metadata": {},
   "outputs": [],
   "source": [
    "## this code shows that data is saved in driver's temp memory\n",
    "%fs ls file:/databricks/driver/"
   ]
  },
  {
   "cell_type": "code",
   "execution_count": null,
   "metadata": {},
   "outputs": [],
   "source": [
    "## data is moved to databrick's local storage for further processing\n",
    "# dbutils.fs.mv(\"file:/databricks/driver/RC_2011-08.bz2\", \"dbfs:/tmp/RC_2011-08.bz2\")  \n",
    "# ## move files from driver to dbfs file storage\n",
    "dbutils.fs.mv(\"file:/databricks/driver/RC_comment.txt\", \"dbfs:/tmp/RC_2011-08.txt\")  "
   ]
  },
  {
   "cell_type": "code",
   "execution_count": null,
   "metadata": {},
   "outputs": [],
   "source": [
    "## import bz2 and unzip the file\n",
    "with bz2.open(\"RC_2011-08.bz2\", \"rb\") as f:\n",
    "    content = f.read()"
   ]
  },
  {
   "cell_type": "code",
   "execution_count": null,
   "metadata": {},
   "outputs": [],
   "source": [
    "## make txt file and write the content\n",
    "f = open(\"RC_comment.txt\", \"wb\")\n",
    "f.write(content)\n",
    "f.close()"
   ]
  },
  {
   "cell_type": "code",
   "execution_count": null,
   "metadata": {},
   "outputs": [],
   "source": [
    "## create rdd to further work on it\n",
    "rdd = sc.textFile(\"dbfs:/tmp/RC_2011-08.txt\")"
   ]
  },
  {
   "cell_type": "code",
   "execution_count": null,
   "metadata": {},
   "outputs": [],
   "source": [
    "## txt file shows that it is txt of json \n",
    "## keep only unix time information and comments\n",
    "## also data is filter from rows that has 'deleted' info\n",
    "\n",
    "rdd = rdd.map(lambda line : (json.loads(line)['created_utc'],json.loads(line)['body'])).filter(lambda line: line if '[deleted]' not in line[1] else None)"
   ]
  },
  {
   "cell_type": "code",
   "execution_count": null,
   "metadata": {},
   "outputs": [],
   "source": [
    "## make them lowercased\n",
    "rdd = rdd.map(lambda line: (line[0], line[1].lower()))"
   ]
  },
  {
   "cell_type": "code",
   "execution_count": null,
   "metadata": {},
   "outputs": [],
   "source": [
    "## here I create several functions for processing\n",
    "\n",
    "lemmatizer = WordNetLemmatizer()\n",
    "analyzer = SentimentIntensityAnalyzer()\n",
    "stopwords_english=set(stopwords.words('english'))\n",
    "\n",
    "def tokenize_sent(x):\n",
    "    return nltk.sent_tokenize(x)\n",
    "  \n",
    "\n",
    "def tokenize_word(x):\n",
    "    sent_split = [word for line in x for word in line.split()]\n",
    "    return sent_split\n",
    "  \n",
    "def remove_stopwords(x):\n",
    "    cleaned_sent = [w for w in x if not w in stopwords_english]\n",
    "    return cleaned_sent\n",
    "  \n",
    "\n",
    "punct_words=list(string.punctuation)\n",
    "\n",
    "def remove_punct(x):\n",
    "    cleaned_sent = [''.join(c for c in s if c not in punct_words) for s in x] \n",
    "    cleaned_sent = [s for s in cleaned_sent if s] #remove empty space \n",
    "    return cleaned_sent\n",
    "\n",
    "\n",
    "def lemmatize_sent(x):\n",
    "    lemma = [lemmatizer.lemmatize(s) for s in x]\n",
    "    return lemma\n",
    "  \n",
    "def join_tokens(x):\n",
    "    joinedTokens_list = []\n",
    "    x = \" \".join(x)\n",
    "    return [x]\n",
    "  \n",
    "def sentiment_score(x):\n",
    "    vs = analyzer.polarity_scores(x[0])\n",
    "    return vs['neg'], vs['neu'], vs['pos'], vs['compound']\n"
   ]
  },
  {
   "cell_type": "markdown",
   "metadata": {},
   "source": [
    "Data in rdd are just rows.\n",
    "\n",
    "Each function that is applied on rdd goes through each row.\n",
    "\n",
    "In rdd line[0] is unix time and line[1] is comments in string.\n",
    "\n",
    "Functions are applied by lambda and only uses line[1] since it contains comments."
   ]
  },
  {
   "cell_type": "code",
   "execution_count": null,
   "metadata": {},
   "outputs": [],
   "source": [
    "## tokenize comment sentences\n",
    "sent_tokenize_rdd = rdd.map(lambda line: (line[0], tokenize_sent(line[1])))\n",
    "\n",
    "## tokenize words\n",
    "word_tokenize_rdd = sent_tokenize_rdd.map(lambda line: (line[0], tokenize_word(line[1])))\n",
    "\n",
    "## remove stopwords from line1\n",
    "remove_stopword_rdd = word_tokenize_rdd.map(lambda line: (line[0], remove_stopwords(line[1])))\n",
    "\n",
    "## remove punct words as well\n",
    "remove_punct_rdd = remove_stopword_rdd.map(lambda line: (line[0], remove_punct(line[1])))\n",
    "\n",
    "## find lemma for each token\n",
    "lemmatize_rdd = remove_punct_rdd.map(lambda line: (line[0], lemmatize_sent(line[1])))\n",
    "\n",
    "## join cleaned tokens for sentiment analysis\n",
    "joined_tokens_rdd = lemmatize_rdd.map(lambda line: (line[0], join_tokens(line[1])))\n",
    "\n",
    "## sentiments are added as well \n",
    "sentiment_rdd = joined_tokens_rdd.map(lambda line: (line[0], line[1], sentiment_score(line[1])))\n",
    "rdd = sentiment_rdd.map(lambda line: (line[0], line[1][0], line[2][0], line[2][1], line[2][2], line[2][3]))"
   ]
  },
  {
   "cell_type": "code",
   "execution_count": null,
   "metadata": {},
   "outputs": [],
   "source": [
    "## here I create a dataframe from rdd and give column names\n",
    "df = spark.createDataFrame(rdd).toDF(\"date\", \"comment\", \"neg\", \"neu\", \"pos\", \"com\")\n",
    "df.show(5, truncate=False)"
   ]
  },
  {
   "cell_type": "code",
   "execution_count": null,
   "metadata": {},
   "outputs": [],
   "source": [
    "## store data for further usage\n",
    "\n",
    "df.write.format(\"com.databricks.spark.csv\").option(\"header\", \"true\").save(\"dbfs:/FileStore/tmp/df.csv\")"
   ]
  }
 ],
 "metadata": {
  "kernelspec": {
   "display_name": "Python 3",
   "language": "python",
   "name": "python3"
  },
  "language_info": {
   "codemirror_mode": {
    "name": "ipython",
    "version": 3
   },
   "file_extension": ".py",
   "mimetype": "text/x-python",
   "name": "python",
   "nbconvert_exporter": "python",
   "pygments_lexer": "ipython3",
   "version": "3.7.6"
  },
  "name": "2.2 Working with Text Files",
  "notebookId": 850641042722931
 },
 "nbformat": 4,
 "nbformat_minor": 4
}
